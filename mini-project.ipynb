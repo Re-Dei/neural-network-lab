{
 "cells": [
  {
   "cell_type": "code",
   "execution_count": null,
   "metadata": {},
   "outputs": [],
   "source": [
    "from manga_ocr import MangaOcr\n",
    "\n",
    "mocr = MangaOcr()\n",
    "text = mocr('/path/to/img')"
   ]
  }
 ],
 "metadata": {
  "language_info": {
   "name": "python"
  }
 },
 "nbformat": 4,
 "nbformat_minor": 2
}
