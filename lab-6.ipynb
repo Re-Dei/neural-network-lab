{
 "cells": [
  {
   "cell_type": "markdown",
   "metadata": {},
   "source": [
    "\n",
    "# Implementing a CNN in TensorFlow\n"
   ]
  },
  {
   "cell_type": "code",
   "execution_count": 1,
   "metadata": {},
   "outputs": [
    {
     "name": "stdout",
     "output_type": "stream",
     "text": [
      "WARNING:tensorflow:From C:\\Users\\prash\\AppData\\Local\\Temp\\ipykernel_15784\\3888404152.py:10: The name tf.disable_eager_execution is deprecated. Please use tf.compat.v1.disable_eager_execution instead.\n",
      "\n"
     ]
    }
   ],
   "source": [
    "# Load the required libraries\n",
    "import warnings\n",
    "warnings.filterwarnings('ignore')\n",
    "import numpy as np\n",
    "import tensorflow as tf\n",
    "import tensorflow_datasets as tfds\n",
    "import matplotlib.pyplot as plt\n",
    "%matplotlib inline\n",
    "\n",
    "tf.compat.v1.disable_eager_execution()\n",
    "\n",
    "# Load the MNIST dataset\n",
    "(train, test), info = tfds.load('mnist',split=['train', 'test'], with_info=True, as_supervised=False)"
   ]
  },
  {
   "cell_type": "markdown",
   "metadata": {},
   "source": [
    "## Defining helper functions"
   ]
  },
  {
   "cell_type": "code",
   "execution_count": 3,
   "metadata": {},
   "outputs": [],
   "source": [
    "import tensorflow as tf\n",
    "\n",
    "tf.compat.v1.disable_eager_execution()\n",
    "\n",
    "\n",
    "# Initialize weights using truncated normal distribution\n",
    "def initialize_weights(shape):\n",
    "    return tf.compat.v1.Variable(tf.random.truncated_normal(shape, stddev=0.1))\n",
    "\n",
    "\n",
    "# Initialize biases with a constant value of 0.1\n",
    "def initialize_bias(shape):\n",
    "    return tf.compat.v1.Variable(tf.constant(0.1, shape=shape))\n",
    "\n",
    "\n",
    "# Convolution operation using tf.nn.conv2d\n",
    "def convolution(x, W):\n",
    "    return tf.nn.conv2d(x, W, strides=[1, 1, 1, 1], padding=\"SAME\")\n",
    "\n",
    "\n",
    "# Max pooling operation using tf.nn.max_pool\n",
    "def max_pooling(x):\n",
    "    return tf.nn.max_pool(x, ksize=[1, 2, 2, 1], strides=[1, 2, 2, 1], padding=\"SAME\")\n",
    "\n",
    "\n",
    "# Define placeholders for input and output\n",
    "X_ = tf.compat.v1.placeholder(tf.float32, [None, 784])\n",
    "X = tf.reshape(X_, [-1, 28, 28, 1])\n",
    "y = tf.compat.v1.placeholder(tf.float32, [None, 10])"
   ]
  },
  {
   "cell_type": "markdown",
   "metadata": {},
   "source": [
    "## Defining the convolutional network"
   ]
  },
  {
   "cell_type": "code",
   "execution_count": 4,
   "metadata": {},
   "outputs": [],
   "source": [
    "# Define the first convolutional layer and pooling layer\n",
    "W1 = initialize_weights([5, 5, 1, 32])\n",
    "b1 = initialize_bias([32])\n",
    "conv1 = tf.nn.relu(convolution(X, W1) + b1)\n",
    "pool1 = max_pooling(conv1)\n",
    "\n",
    "# Define the second convolutional layer and pooling layer\n",
    "W2 = initialize_weights([5, 5, 32, 64])\n",
    "b2 = initialize_bias([64])\n",
    "conv2 = tf.nn.relu(convolution(pool1, W2) + b2)\n",
    "pool2 = max_pooling(conv2)\n",
    "\n",
    "# Flatten the result of the second pooling layer\n",
    "flattened = tf.reshape(pool2, [-1, 7 * 7 * 64])\n",
    "\n",
    "# Define weights and biases for the fully connected layer\n",
    "W_fc = initialize_weights([7 * 7 * 64, 1024])\n",
    "b_fc = initialize_bias([1024])\n",
    "fc_output = tf.nn.relu(tf.matmul(flattened, W_fc) + b_fc)\n",
    "\n",
    "# Define weights and biases for the output layer\n",
    "W_out = initialize_weights([1024, 10])\n",
    "b_out = initialize_bias([10])\n",
    "YHat = tf.nn.softmax(tf.matmul(fc_output, W_out) + b_out)"
   ]
  },
  {
   "cell_type": "markdown",
   "metadata": {},
   "source": [
    "## Computing loss"
   ]
  },
  {
   "cell_type": "code",
   "execution_count": 5,
   "metadata": {},
   "outputs": [
    {
     "name": "stdout",
     "output_type": "stream",
     "text": [
      "WARNING:tensorflow:From C:\\Users\\prash\\AppData\\Local\\Temp\\ipykernel_13540\\1274323753.py:5: The name tf.train.AdamOptimizer is deprecated. Please use tf.compat.v1.train.AdamOptimizer instead.\n",
      "\n"
     ]
    },
    {
     "name": "stderr",
     "output_type": "stream",
     "text": [
      "WARNING:tensorflow:From C:\\Users\\prash\\AppData\\Local\\Temp\\ipykernel_13540\\1274323753.py:5: The name tf.train.AdamOptimizer is deprecated. Please use tf.compat.v1.train.AdamOptimizer instead.\n",
      "\n"
     ]
    }
   ],
   "source": [
    "# Compute the cross-entropy loss\n",
    "cross_entropy = -tf.reduce_sum(y * tf.compat.v1.log(YHat))\n",
    "\n",
    "# Minimize the loss using Adam optimizer\n",
    "optimizer = tf.compat.v1.train.AdamOptimizer(1e-4).minimize(cross_entropy)\n",
    "\n",
    "# Calculate the accuracy\n",
    "predicted_digit = tf.compat.v1.argmax(YHat, 1)\n",
    "actual_digit = tf.compat.v1.argmax(y, 1)\n",
    "correct_pred = tf.compat.v1.equal(predicted_digit, actual_digit)\n",
    "accuracy = tf.compat.v1.reduce_mean(tf.compat.v1.cast(correct_pred, tf.float32))"
   ]
  },
  {
   "cell_type": "markdown",
   "metadata": {},
   "source": [
    "## Starting the training"
   ]
  },
  {
   "cell_type": "code",
   "execution_count": 6,
   "metadata": {},
   "outputs": [
    {
     "name": "stdout",
     "output_type": "stream",
     "text": [
      "WARNING:tensorflow:From C:\\Users\\prash\\AppData\\Local\\Temp\\ipykernel_13540\\2502411757.py:16: The name tf.data.make_initializable_iterator is deprecated. Please use tf.compat.v1.data.make_initializable_iterator instead.\n",
      "\n"
     ]
    },
    {
     "name": "stderr",
     "output_type": "stream",
     "text": [
      "WARNING:tensorflow:From C:\\Users\\prash\\AppData\\Local\\Temp\\ipykernel_13540\\2502411757.py:16: The name tf.data.make_initializable_iterator is deprecated. Please use tf.compat.v1.data.make_initializable_iterator instead.\n",
      "\n"
     ]
    },
    {
     "name": "stdout",
     "output_type": "stream",
     "text": [
      "Epoch: 0, Loss: 789.9088745117188, Accuracy: 0.10999999940395355\n",
      "Epoch: 100, Loss: 36.09505844116211, Accuracy: 0.8700000047683716\n",
      "Epoch: 200, Loss: 18.81298065185547, Accuracy: 0.9399999976158142\n",
      "Epoch: 300, Loss: 46.61236572265625, Accuracy: 0.8799999952316284\n",
      "Epoch: 400, Loss: 15.599380493164062, Accuracy: 0.949999988079071\n",
      "Epoch: 500, Loss: 11.195846557617188, Accuracy: 0.9599999785423279\n",
      "Epoch: 700, Loss: 2.5994458198547363, Accuracy: 1.0\n",
      "Epoch: 800, Loss: 2.4966037273406982, Accuracy: 1.0\n",
      "Epoch: 900, Loss: 11.385285377502441, Accuracy: 0.949999988079071\n"
     ]
    }
   ],
   "source": [
    "# Start a TensorFlow session and initialize all variables\n",
    "sess = tf.compat.v1.Session()\n",
    "sess.run(tf.compat.v1.global_variables_initializer())\n",
    "\n",
    "batch_size = 100\n",
    "\n",
    "\n",
    "def preprocess(data):\n",
    "    image = tf.cast(data[\"image\"], tf.float32) / 255.0\n",
    "    label = tf.one_hot(data[\"label\"], 10)\n",
    "    return image, label\n",
    "\n",
    "\n",
    "train_processed = train.map(preprocess).batch(batch_size)\n",
    "\n",
    "iterator = tf.compat.v1.data.make_initializable_iterator(train_processed)\n",
    "next_batch = iterator.get_next()\n",
    "sess.run(iterator.initializer)\n",
    "\n",
    "for epoch in range(1000):\n",
    "    try:\n",
    "\n",
    "        X_batch, y_batch = sess.run(next_batch)\n",
    "\n",
    "        X_batch_flattened = X_batch.reshape(-1, 784)\n",
    "        _, batch_loss, batch_accuracy = sess.run(\n",
    "            [optimizer, cross_entropy, accuracy],\n",
    "            feed_dict={X_: X_batch_flattened, y: y_batch},\n",
    "        )\n",
    "\n",
    "        if epoch % 100 == 0:\n",
    "            print(f\"Epoch: {epoch}, Loss: {batch_loss}, Accuracy: {batch_accuracy}\")\n",
    "    except tf.errors.OutOfRangeError:\n",
    "        sess.run(iterator.initializer)"
   ]
  },
  {
   "cell_type": "markdown",
   "metadata": {},
   "source": [
    "## Visualizing extracted features"
   ]
  },
  {
   "cell_type": "code",
   "execution_count": 7,
   "metadata": {},
   "outputs": [
    {
     "data": {
      "image/png": "[encoded data removed]",
      "text/plain": [
       "<Figure size 640x480 with 1 Axes>"
      ]
     },
     "metadata": {},
     "output_type": "display_data"
    }
   ],
   "source": [
    "# Create an iterator for the dataset\n",
    "ds_train_1_batched = train.map(preprocess).batch(1)\n",
    "iterator = tf.compat.v1.data.make_one_shot_iterator(ds_train_1_batched)\n",
    "\n",
    "image, label = iterator.get_next()\n",
    "image_val, label_val = sess.run([image, label])\n",
    "\n",
    "image, label = iterator.get_next()\n",
    "image_val, label_val = sess.run([image, label])\n",
    "\n",
    "\n",
    "plt.imshow(image_val[0, :, :, 0], cmap=\"gray\")\n",
    "plt.show()"
   ]
  },
  {
   "cell_type": "code",
   "execution_count": 8,
   "metadata": {},
   "outputs": [],
   "source": [
    "reshaped_image = tf.reshape(image_val, [1, 784])\n",
    "image_val, label_val = sess.run([reshaped_image, label])\n",
    "\n",
    "feature_map = sess.run([conv1], feed_dict={X_: image_val})[0]"
   ]
  },
  {
   "cell_type": "code",
   "execution_count": 9,
   "metadata": {},
   "outputs": [
    {
     "data": {
      "image/png": "[encoded data removed]",
      "text/plain": [
       "<Figure size 640x480 with 32 Axes>"
      ]
     },
     "metadata": {},
     "output_type": "display_data"
    }
   ],
   "source": [
    "for i in range(32):\n",
    "    feature = feature_map[:, :, :, i].reshape([28, 28])\n",
    "    plt.subplot(4, 8, i + 1)\n",
    "    plt.imshow(feature)\n",
    "    plt.axis(\"off\")\n",
    "plt.show()"
   ]
  },
  {
   "cell_type": "markdown",
   "metadata": {},
   "source": [
    "\n",
    "# Building Capsule networks in TensorFlow"
   ]
  },
  {
   "cell_type": "code",
   "execution_count": 10,
   "metadata": {},
   "outputs": [],
   "source": [
    "import warnings\n",
    "\n",
    "warnings.filterwarnings(\"ignore\")\n",
    "import numpy as np\n",
    "import tensorflow as tf\n",
    "import logging\n",
    "\n",
    "logging.getLogger(\"tensorflow\").setLevel(logging.ERROR)"
   ]
  },
  {
   "cell_type": "markdown",
   "metadata": {},
   "source": [
    "## Defining the squash function\n"
   ]
  },
  {
   "cell_type": "code",
   "execution_count": 11,
   "metadata": {},
   "outputs": [],
   "source": [
    "def squash(sj, epsilon=1e-7):\n",
    "    sj_norm = tf.reduce_sum(tf.square(sj), -2, keepdims=True)\n",
    "    scalar_factor = sj_norm / (1 + sj_norm) / tf.sqrt(sj_norm + epsilon)\n",
    "    vj = scalar_factor * sj\n",
    "    return vj"
   ]
  },
  {
   "cell_type": "markdown",
   "metadata": {},
   "source": [
    "## Defining a dynamic routing algorithm"
   ]
  },
  {
   "cell_type": "code",
   "execution_count": 12,
   "metadata": {},
   "outputs": [],
   "source": [
    "def dynamic_routing(ui, bij, num_routing=10):\n",
    "    wij = tf.compat.v1.get_variable(\n",
    "        \"Weight\",\n",
    "        shape=(1, 1152, 160, 8, 1),\n",
    "        dtype=tf.float32,\n",
    "        initializer=tf.random_normal_initializer(0.01),\n",
    "    )\n",
    "    biases = tf.compat.v1.get_variable(\"bias\", shape=(1, 1, 10, 16, 1))\n",
    "    ui = tf.tile(ui, [1, 1, 160, 1, 1])\n",
    "    u_hat = tf.reduce_sum(wij * ui, axis=3, keepdims=True)\n",
    "    u_hat = tf.reshape(u_hat, shape=[-1, 1152, 10, 16, 1])\n",
    "    u_hat_stopped = tf.stop_gradient(u_hat, name=\"stop_gradient\")\n",
    "\n",
    "    for r in range(num_routing):\n",
    "        with tf.compat.v1.variable_scope(\"iter_\" + str(r)):\n",
    "            cij = tf.nn.softmax(bij, axis=2)\n",
    "            if r == num_routing - 1:\n",
    "                sj = tf.multiply(cij, u_hat)\n",
    "                sj = tf.reduce_sum(sj, axis=1, keepdims=True) + biases\n",
    "                vj = squash(sj)\n",
    "            else:\n",
    "                sj = tf.multiply(cij, u_hat_stopped)\n",
    "                sj = tf.reduce_sum(sj, axis=1, keepdims=True) + biases\n",
    "                vj = squash(sj)\n",
    "\n",
    "                vj_tiled = tf.tile(vj, [1, 1152, 1, 1, 1])\n",
    "                coupling_coeff = tf.reduce_sum(\n",
    "                    u_hat_stopped * vj_tiled, axis=3, keepdims=True\n",
    "                )\n",
    "                bij += coupling_coeff\n",
    "\n",
    "    return vj"
   ]
  },
  {
   "cell_type": "markdown",
   "metadata": {},
   "source": [
    "## Computing primary and digit capsules\n"
   ]
  },
  {
   "cell_type": "code",
   "execution_count": 13,
   "metadata": {},
   "outputs": [],
   "source": [
    "import tensorflow as tf\n",
    "import numpy as np\n",
    "\n",
    "# Start the TensorFlow Graph\n",
    "graph = tf.Graph()\n",
    "with graph.as_default() as g:\n",
    "\n",
    "    batch_size = 128\n",
    "    x = tf.compat.v1.placeholder(tf.float32, [batch_size, 784])\n",
    "    y = tf.compat.v1.placeholder(tf.float32, [batch_size, 10])\n",
    "\n",
    "    x_image = tf.reshape(x, [-1, 28, 28, 1])\n",
    "\n",
    "    with tf.name_scope(\"convolutional_input\"):\n",
    "        input_data = tf.keras.layers.Conv2D(\n",
    "            filters=256, kernel_size=9, padding=\"valid\"\n",
    "        )(x_image)\n",
    "\n",
    "    capsules = []\n",
    "    for i in range(8):\n",
    "        with tf.name_scope(\"capsules_\" + str(i)):\n",
    "\n",
    "            output = tf.keras.layers.Conv2D(\n",
    "                filters=32, kernel_size=9, strides=2, padding=\"valid\"\n",
    "            )(input_data)\n",
    "\n",
    "            output = tf.reshape(output, [batch_size, -1, 1, 1])\n",
    "\n",
    "            # Store the output (capsule) in the capsules list\n",
    "            capsules.append(output)\n",
    "\n",
    "    primary_capsule = tf.concat(capsules, axis=2)\n",
    "\n",
    "    primary_capsule = squash(primary_capsule)\n",
    "\n",
    "    with tf.name_scope(\"dynamic_routing\"):\n",
    "\n",
    "        outputs = tf.reshape(\n",
    "            primary_capsule, shape=(batch_size, -1, 1, primary_capsule.shape[-2], 1)\n",
    "        )\n",
    "\n",
    "        bij = tf.constant(\n",
    "            np.zeros([1, primary_capsule.shape[1], 10, 1, 1], dtype=np.float32)\n",
    "        )\n",
    "\n",
    "        digit_capsules = dynamic_routing(outputs, bij)\n",
    "\n",
    "    # Squeeze the digit capsules to remove unnecessary dimensions\n",
    "    digit_capsules = tf.squeeze(digit_capsules, axis=1)"
   ]
  },
  {
   "cell_type": "markdown",
   "metadata": {},
   "source": [
    "## Masking the digit capsule\n"
   ]
  },
  {
   "cell_type": "code",
   "execution_count": 14,
   "metadata": {},
   "outputs": [],
   "source": [
    "with graph.as_default() as g:\n",
    "    with tf.compat.v1.variable_scope(\"Masking\"):\n",
    "        masked_v = tf.multiply(tf.squeeze(digit_capsules), tf.reshape(y, (-1, 10, 1)))"
   ]
  },
  {
   "cell_type": "markdown",
   "metadata": {},
   "source": [
    "## Defining the decoder\n"
   ]
  },
  {
   "cell_type": "code",
   "execution_count": 15,
   "metadata": {},
   "outputs": [],
   "source": [
    "with graph.as_default() as g:\n",
    "    with tf.name_scope(\"Decoder\"):\n",
    "        v_j = tf.reshape(masked_v, shape=(batch_size, -1))\n",
    "        fc1 = tf.keras.layers.Dense(units=512, activation=\"relu\")(v_j)\n",
    "        fc2 = tf.keras.layers.Dense(units=1024, activation=\"relu\")(fc1)\n",
    "        reconstructed_image = tf.keras.layers.Dense(units=784, activation=\"sigmoid\")(\n",
    "            fc2\n",
    "        )"
   ]
  },
  {
   "cell_type": "markdown",
   "metadata": {},
   "source": [
    "## Computing the accuracy of the model\n"
   ]
  },
  {
   "cell_type": "code",
   "execution_count": 16,
   "metadata": {},
   "outputs": [],
   "source": [
    "epsilon = 1e-9\n",
    "with graph.as_default() as g:\n",
    "    with tf.compat.v1.variable_scope(\"accuracy\"):\n",
    "        v_length = tf.sqrt(\n",
    "            tf.reduce_sum(tf.square(digit_capsules), axis=2, keepdims=True) + epsilon\n",
    "        )\n",
    "\n",
    "        softmax_v = tf.nn.softmax(v_length, axis=1)\n",
    "\n",
    "        argmax_idx = tf.compat.v1.to_int32(tf.argmax(softmax_v, axis=1))\n",
    "        predicted_digit = tf.reshape(argmax_idx, shape=(batch_size,))\n",
    "\n",
    "        # Compute the accuracy\n",
    "        actual_digit = tf.compat.v1.to_int32(tf.argmax(y, axis=1))\n",
    "        correct_pred = tf.equal(predicted_digit, actual_digit)\n",
    "        accuracy = tf.reduce_mean(tf.cast(correct_pred, tf.float32))"
   ]
  },
  {
   "cell_type": "markdown",
   "metadata": {},
   "source": [
    "## Calculating loss\n"
   ]
  },
  {
   "cell_type": "markdown",
   "metadata": {},
   "source": [
    "### Margin loss\n"
   ]
  },
  {
   "cell_type": "code",
   "execution_count": 17,
   "metadata": {},
   "outputs": [],
   "source": [
    "with graph.as_default() as g:\n",
    "    with tf.compat.v1.variable_scope(\"margin_loss\"):\n",
    "        max_left = tf.square(tf.maximum(0.0, 0.9 - v_length))\n",
    "        max_right = tf.square(tf.maximum(0.0, v_length - 0.1))\n",
    "\n",
    "        T_k = y\n",
    "        lambda_ = 0.5\n",
    "\n",
    "        L_k = T_k * max_left + lambda_ * (1 - T_k) * max_right\n",
    "        margin_loss = tf.reduce_mean(tf.reduce_sum(L_k, axis=1))"
   ]
  },
  {
   "cell_type": "markdown",
   "metadata": {},
   "source": [
    "### Reconstruction loss\n"
   ]
  },
  {
   "cell_type": "code",
   "execution_count": 18,
   "metadata": {},
   "outputs": [],
   "source": [
    "with graph.as_default() as g:\n",
    "    with tf.compat.v1.variable_scope(\"reconstruction_loss\"):\n",
    "        original_image = tf.reshape(x, shape=(batch_size, -1))\n",
    "        squared = tf.square(reconstructed_image - original_image)\n",
    "        reconstruction_loss = tf.reduce_mean(squared)"
   ]
  },
  {
   "cell_type": "markdown",
   "metadata": {},
   "source": [
    "### Total loss\n"
   ]
  },
  {
   "cell_type": "code",
   "execution_count": 19,
   "metadata": {},
   "outputs": [],
   "source": [
    "with graph.as_default() as g:\n",
    "    with tf.compat.v1.variable_scope(\"total_loss\"):\n",
    "        alpha = 0.0005\n",
    "        total_loss = margin_loss + alpha * reconstruction_loss\n",
    "        optimizer = tf.compat.v1.train.AdamOptimizer(0.0001)\n",
    "        train_op = optimizer.minimize(total_loss)"
   ]
  },
  {
   "cell_type": "markdown",
   "metadata": {},
   "source": [
    "## Training the Capsule network\n"
   ]
  },
  {
   "cell_type": "code",
   "execution_count": 21,
   "metadata": {},
   "outputs": [
    {
     "name": "stdout",
     "output_type": "stream",
     "text": [
      "Epoch: 0, Loss: 0.5763105750083923, Accuracy: 0.0859375\n",
      "Epoch: 10, Loss: 0.5378077626228333, Accuracy: 0.0546875\n",
      "Epoch: 20, Loss: 0.5323398113250732, Accuracy: 0.1171875\n",
      "Epoch: 30, Loss: 0.5292855501174927, Accuracy: 0.1015625\n",
      "Epoch: 40, Loss: 0.52814120054245, Accuracy: 0.125\n",
      "Epoch: 50, Loss: 0.5272445678710938, Accuracy: 0.1328125\n",
      "Epoch: 60, Loss: 0.526566207408905, Accuracy: 0.140625\n",
      "Epoch: 70, Loss: 0.5259942412376404, Accuracy: 0.125\n",
      "Epoch: 80, Loss: 0.5255122184753418, Accuracy: 0.109375\n",
      "Epoch: 90, Loss: 0.525112509727478, Accuracy: 0.1171875\n"
     ]
    }
   ],
   "source": [
    "num_epochs = 100\n",
    "\n",
    "\n",
    "# Start the TensorFlow Session and perform training\n",
    "with tf.compat.v1.Session(graph=graph) as sess:\n",
    "    (train, test), info = tfds.load(\n",
    "        \"mnist\", split=[\"train\", \"test\"], with_info=True, as_supervised=False\n",
    "    )\n",
    "\n",
    "    init_op = tf.compat.v1.global_variables_initializer()\n",
    "    sess.run(init_op)\n",
    "\n",
    "    # Create the dataset and iterator within the graph context\n",
    "    with graph.as_default():\n",
    "        train_processed = train.map(preprocess).batch(batch_size)\n",
    "        iterator = tf.compat.v1.data.make_initializable_iterator(train_processed)\n",
    "        next_batch = iterator.get_next()\n",
    "        sess.run(iterator.initializer)\n",
    "\n",
    "    # Training loop\n",
    "    for epoch in range(num_epochs):\n",
    "        try:\n",
    "            batch_data, batch_labels = sess.run(next_batch)\n",
    "            batch_data = batch_data.reshape(batch_size, 784)\n",
    "            feed_dict = {x: batch_data, y: batch_labels}\n",
    "\n",
    "            _, loss, acc = sess.run(\n",
    "                [train_op, total_loss, accuracy], feed_dict=feed_dict\n",
    "            )\n",
    "\n",
    "            if epoch % 10 == 0:\n",
    "                print(\"Epoch: {}, Loss: {}, Accuracy: {}\".format(epoch, loss, acc))\n",
    "        except tf.errors.OutOfRangeError:\n",
    "            break\n",
    "        sess.run(iterator.initializer)"
   ]
  },
  {
   "cell_type": "markdown",
   "metadata": {},
   "source": []
  }
 ],
 "metadata": {
  "kernelspec": {
   "display_name": "venv",
   "language": "python",
   "name": "python3"
  },
  "language_info": {
   "codemirror_mode": {
    "name": "ipython",
    "version": 3
   },
   "file_extension": ".py",
   "mimetype": "text/x-python",
   "name": "python",
   "nbconvert_exporter": "python",
   "pygments_lexer": "ipython3",
   "version": "3.11.5"
  }
 },
 "nbformat": 4,
 "nbformat_minor": 2
}
