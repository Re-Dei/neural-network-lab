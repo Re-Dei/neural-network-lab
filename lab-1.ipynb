{
 "cells": [
  {
   "cell_type": "markdown",
   "metadata": {},
   "source": [
    "## sigmoid function"
   ]
  },
  {
   "cell_type": "code",
   "execution_count": 3,
   "metadata": {},
   "outputs": [
    {
     "name": "stdout",
     "output_type": "stream",
     "text": [
      "[0.26894142 0.5        0.73105858]\n"
     ]
    }
   ],
   "source": [
    "import numpy as np\n",
    "\n",
    "\n",
    "def sigmoid(x):\n",
    "    return 1 / (1 + np.exp(-x))\n",
    "\n",
    "\n",
    "print(sigmoid(np.array([-1, 0, 1])))"
   ]
  },
  {
   "cell_type": "markdown",
   "metadata": {},
   "source": [
    "## tanh function"
   ]
  },
  {
   "cell_type": "code",
   "execution_count": 4,
   "metadata": {},
   "outputs": [
    {
     "name": "stdout",
     "output_type": "stream",
     "text": [
      "[-0.76159416  0.          0.76159416]\n"
     ]
    }
   ],
   "source": [
    "def tanh(x):\n",
    "    numerator = 1 - np.exp(-2 * x)\n",
    "    denominator = 1 + np.exp(-2 * x)\n",
    "    return numerator / denominator\n",
    "\n",
    "\n",
    "print(tanh(np.array([-1, 0, 1])))"
   ]
  },
  {
   "cell_type": "markdown",
   "metadata": {},
   "source": [
    "## Rectified Linear Unit function"
   ]
  },
  {
   "cell_type": "code",
   "execution_count": 8,
   "metadata": {},
   "outputs": [
    {
     "name": "stdout",
     "output_type": "stream",
     "text": [
      "1\n"
     ]
    }
   ],
   "source": [
    "def RelU(x):\n",
    "    if x < 0:\n",
    "        return 0\n",
    "    else:\n",
    "        return x\n",
    "\n",
    "\n",
    "print(RelU(1))"
   ]
  },
  {
   "cell_type": "markdown",
   "metadata": {},
   "source": [
    "## Leaky ReLU function"
   ]
  },
  {
   "cell_type": "code",
   "execution_count": 9,
   "metadata": {},
   "outputs": [
    {
     "name": "stdout",
     "output_type": "stream",
     "text": [
      "-0.01\n"
     ]
    }
   ],
   "source": [
    "def leakyReLU(x, alpha=0.01):\n",
    "    if x < 0:\n",
    "        return alpha * x\n",
    "    else:\n",
    "        return x\n",
    "\n",
    "\n",
    "print(leakyReLU(-1))"
   ]
  },
  {
   "cell_type": "markdown",
   "metadata": {},
   "source": [
    "## Exponential Linear Unit function"
   ]
  },
  {
   "cell_type": "code",
   "execution_count": 12,
   "metadata": {},
   "outputs": [
    {
     "name": "stdout",
     "output_type": "stream",
     "text": [
      "-0.6321205588285577\n"
     ]
    }
   ],
   "source": [
    "def ELU(x, alpha=1):\n",
    "    if x < 0:\n",
    "        return alpha * (np.exp(x) - 1)\n",
    "    else:\n",
    "        return x\n",
    "\n",
    "\n",
    "print(ELU(-1))"
   ]
  },
  {
   "cell_type": "markdown",
   "metadata": {},
   "source": [
    "## Swish function"
   ]
  },
  {
   "cell_type": "code",
   "execution_count": 13,
   "metadata": {},
   "outputs": [
    {
     "name": "stdout",
     "output_type": "stream",
     "text": [
      "1.4621171572600098\n"
     ]
    }
   ],
   "source": [
    "def swish(x, beta):\n",
    "    return 2 * x * sigmoid(beta * x)\n",
    "\n",
    "\n",
    "print(swish(1, 1))"
   ]
  },
  {
   "cell_type": "markdown",
   "metadata": {},
   "source": [
    "## Softmax function"
   ]
  },
  {
   "cell_type": "code",
   "execution_count": 14,
   "metadata": {},
   "outputs": [
    {
     "name": "stdout",
     "output_type": "stream",
     "text": [
      "[0.09003057 0.24472847 0.66524096]\n"
     ]
    }
   ],
   "source": [
    "def softmax(x):\n",
    "    return np.exp(x) / np.exp(x).sum(axis=0)\n",
    "\n",
    "\n",
    "print(softmax(np.array([1, 2, 3])))"
   ]
  },
  {
   "cell_type": "markdown",
   "metadata": {},
   "source": [
    "## Forward Propagation in ANN"
   ]
  },
  {
   "cell_type": "code",
   "execution_count": 16,
   "metadata": {},
   "outputs": [
    {
     "name": "stdout",
     "output_type": "stream",
     "text": [
      "[0.99999774 0.99999989 0.99999999]\n"
     ]
    }
   ],
   "source": [
    "Wxh = np.array([[1, 2, 3], [4, 5, 6], [7, 8, 9]])\n",
    "bh = np.array([1, 1, 1])\n",
    "Why = np.array([[1, 2, 3], [4, 5, 6], [7, 8, 9]])\n",
    "by = np.array([1, 1, 1])\n",
    "\n",
    "def forward_prop(X):\n",
    "    z1 = np.dot(X, Wxh) + bh\n",
    "    a1 = sigmoid(z1)\n",
    "    z2 = np.dot(a1, Why) + by\n",
    "    y_hat = sigmoid(z2)\n",
    "\n",
    "    return y_hat\n",
    "\n",
    "\n",
    "print(forward_prop(np.array([1, 2, 3])))"
   ]
  },
  {
   "cell_type": "markdown",
   "metadata": {},
   "source": [
    "## Backward Propagation in ANN"
   ]
  },
  {
   "cell_type": "code",
   "execution_count": 26,
   "metadata": {},
   "outputs": [
    {
     "name": "stdout",
     "output_type": "stream",
     "text": [
      "(array([[1., 2., 3.],\n",
      "       [4., 5., 6.],\n",
      "       [7., 8., 9.]]), array([[1., 2., 3.],\n",
      "       [4., 5., 6.],\n",
      "       [7., 8., 9.]]))\n"
     ]
    }
   ],
   "source": [
    "def sigmoid_derivative(x):\n",
    "    return sigmoid(x) * (1 - sigmoid(x))\n",
    "\n",
    "\n",
    "y = np.array([1, 2, 3])\n",
    "X = np.array([1, 2, 3])\n",
    "alpha = 0.01\n",
    "\n",
    "\n",
    "def backward_prop(y_hat, z1, a1, z2, Wxh, Why):\n",
    "    delta2 = np.multiply(-(y - y_hat), sigmoid_derivative(z2))\n",
    "    dJ_dWhy = np.dot(a1.T, delta2)\n",
    "\n",
    "    delta1 = np.dot(delta2, Why.T) * sigmoid_derivative(z1)\n",
    "    dJ_dWxh = np.dot(X.T, delta1)\n",
    "\n",
    "    Wxh = Wxh - alpha * dJ_dWxh\n",
    "    Why = Why - alpha * dJ_dWhy\n",
    "\n",
    "    return Wxh, Why\n",
    "\n",
    "\n",
    "print(\n",
    "    backward_prop(\n",
    "        np.array([1, 2, 3]),\n",
    "        np.array([1, 2, 3]),\n",
    "        np.array([1, 2, 3]),\n",
    "        np.array([1, 2, 3]),\n",
    "        np.array([[1, 2, 3], [4, 5, 6], [7, 8, 9]]),\n",
    "        np.array([[1, 2, 3], [4, 5, 6], [7, 8, 9]]),\n",
    "    )\n",
    ")"
   ]
  },
  {
   "cell_type": "markdown",
   "metadata": {},
   "source": [
    "## Building a Neural Network from Scratch"
   ]
  },
  {
   "cell_type": "code",
   "execution_count": 39,
   "metadata": {},
   "outputs": [
    {
     "data": {
      "text/plain": [
       "Text(0, 0.5, 'Cost')"
      ]
     },
     "execution_count": 39,
     "metadata": {},
     "output_type": "execute_result"
    },
    {
     "data": {
      "image/png": "[encoded data removed]",
      "text/plain": [
       "<Figure size 640x480 with 1 Axes>"
      ]
     },
     "metadata": {},
     "output_type": "display_data"
    }
   ],
   "source": [
    "import numpy as np\n",
    "import matplotlib.pyplot as plt\n",
    "%matplotlib inline\n",
    "\n",
    "X = np.array([[0,1], [1,0], [1,1], [0,0]])\n",
    "y = np.array([[1], [1], [0], [0]])\n",
    "\n",
    "num_input = 2\n",
    "num_hidden = 5\n",
    "num_output = 1\n",
    "\n",
    "Wxh = np.random.randn(num_input, num_hidden)\n",
    "bh = np.zeros((1, num_hidden))\n",
    "\n",
    "Why = np.random.randn(num_hidden, num_output)\n",
    "by = np.zeros((1, num_output))\n",
    "\n",
    "def sigmoid(z):\n",
    "    return 1 / (1 + np.exp(-z))\n",
    "  \n",
    "def sigmoid_derivative(z):\n",
    "    return np.exp(-z) / (1 + np.exp(-z))**2\n",
    "  \n",
    "def forward_prop(X, Wxh, Why):\n",
    "    z1 = np.dot(X, Wxh) + bh\n",
    "    a1 = sigmoid(z1)\n",
    "    z2 = np.dot(a1, Why) + by\n",
    "    y_hat = sigmoid(z2)\n",
    "    \n",
    "    return z1, a1, z2, y_hat\n",
    "  \n",
    "def backward_prop(y_hat, z1, a1, z2):\n",
    "    delta2 = np.multiply(-(y - y_hat), sigmoid_derivative(z2))\n",
    "    dJ_dWhy = np.dot(a1.T, delta2)\n",
    "    delta1 = np.dot(delta2, Why.T) * sigmoid_derivative(z1)\n",
    "    dJ_dWxh = np.dot(X.T, delta1)\n",
    "    \n",
    "    return dJ_dWxh, dJ_dWhy\n",
    "  \n",
    "def cost_function(y, y_hat):\n",
    "    J = 0.5 * sum((y - y_hat)**2)\n",
    "    return J\n",
    "\n",
    "alpha = 0.01\n",
    "num_iterations = 5000\n",
    "\n",
    "cost = []\n",
    "\n",
    "for i in range(num_iterations):\n",
    "    z1, a1, z2, y_hat = forward_prop(X, Wxh, Why)\n",
    "    dJ_dWxh, dJ_dWhy = backward_prop(y_hat, z1, a1, z2)\n",
    "    \n",
    "    # update weights\n",
    "    Wxh = Wxh - alpha * dJ_dWxh\n",
    "    Why = Why - alpha * dJ_dWhy\n",
    "    \n",
    "    # compute cost\n",
    "    c = cost_function(y, y_hat)\n",
    "    \n",
    "    cost.append(c)\n",
    "    \n",
    "plt.grid()\n",
    "plt.plot(range(num_iterations), cost)\n",
    "plt.title('Cost Function')\n",
    "plt.xlabel('Training Iterations')\n",
    "plt.ylabel('Cost')"
   ]
  }
 ],
 "metadata": {
  "kernelspec": {
   "display_name": "Python 3",
   "language": "python",
   "name": "python3"
  },
  "language_info": {
   "codemirror_mode": {
    "name": "ipython",
    "version": 3
   },
   "file_extension": ".py",
   "mimetype": "text/x-python",
   "name": "python",
   "nbconvert_exporter": "python",
   "pygments_lexer": "ipython3",
   "version": "3.11.3"
  }
 },
 "nbformat": 4,
 "nbformat_minor": 2
}
